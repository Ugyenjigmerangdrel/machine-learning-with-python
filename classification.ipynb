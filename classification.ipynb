{
 "cells": [
  {
   "cell_type": "markdown",
   "metadata": {},
   "source": [
    "K-Nearest Neighbors Implementation\n",
    "\n",
    "After completing this lab you will be able to:\n",
    "\n",
    "    Use K Nearest neighbors to classify data\n",
    "\n",
    "In this Lab you will load a customer dataset, fit the data, and use K-Nearest Neighbors to predict a data point. But what is K-Nearest Neighbors?\n",
    "\n",
    "K-Nearest Neighbors is a supervised learning algorithm. Where the data is 'trained' with data points corresponding to their classification. To predict the class of a given data point, it takes into account the classes of the 'K' nearest data points and chooses the class in which the majority of the 'K' nearest data points belong to as the predicted class.\n",
    "\n",
    "\n",
    "### Here's an visualization of the K-Nearest Neighbors algorithm.\n",
    "\n",
    "<img src=\"https://cf-courses-data.s3.us.cloud-object-storage.appdomain.cloud/IBMDeveloperSkillsNetwork-ML0101EN-SkillsNetwork/labs/Module%203/images/KNN_Diagram.png\">\n",
    "\n",
    "In this case, we have data points of Class A and B. We want to predict what the star (test data point) is. If we consider a k value of 3 (3 nearest data points), we will obtain a prediction of Class B. Yet if we consider a k value of 6, we will obtain a prediction of Class A.\n",
    "\n",
    "In this sense, it is important to consider the value of k. Hopefully from this diagram, you should get a sense of what the K-Nearest Neighbors algorithm is. It considers the 'K' Nearest Neighbors (data points) when it predicts the classification of the test point.\n"
   ]
  },
  {
   "cell_type": "code",
   "execution_count": null,
   "metadata": {},
   "outputs": [],
   "source": [
    "!pip install scikit-learn"
   ]
  },
  {
   "cell_type": "code",
   "execution_count": 4,
   "metadata": {},
   "outputs": [],
   "source": [
    "import numpy as np\n",
    "import matplotlib.pyplot as plt\n",
    "import pandas as pd\n",
    "import numpy as np\n",
    "from sklearn import preprocessing\n",
    "%matplotlib inline"
   ]
  },
  {
   "cell_type": "markdown",
   "metadata": {},
   "source": [
    "Imagine a telecommunications provider has segmented its customer base by service usage patterns, categorizing the customers into four groups. If demographic data can be used to predict group membership, the company can customize offers for individual prospective customers. It is a classification problem. That is, given the dataset, with predefined labels, we need to build a model to be used to predict class of a new or unknown case.\n",
    "\n",
    "The example focuses on using demographic data, such as region, age, and marital, to predict usage patterns.\n",
    "\n",
    "The target field, called custcat, has four possible values that correspond to the four customer groups, as follows: 1- Basic Service 2- E-Service 3- Plus Service 4- Total Service\n",
    "\n",
    "Our objective is to build a classifier, to predict the class of unknown cases. We will use a specific type of classification called K nearest neighbour.\n"
   ]
  },
  {
   "cell_type": "markdown",
   "metadata": {},
   "source": [
    "Load Data\n"
   ]
  },
  {
   "cell_type": "code",
   "execution_count": 6,
   "metadata": {},
   "outputs": [
    {
     "data": {
      "text/plain": [
       "3    281\n",
       "1    266\n",
       "4    236\n",
       "2    217\n",
       "Name: custcat, dtype: int64"
      ]
     },
     "execution_count": 6,
     "metadata": {},
     "output_type": "execute_result"
    }
   ],
   "source": [
    "df = pd.read_csv('custcat.csv')\n",
    "df.head()\n",
    "\n",
    "# Let’s see how many of each class/category is in our data set\n",
    "\n",
    "df['custcat'].value_counts()"
   ]
  },
  {
   "cell_type": "code",
   "execution_count": 7,
   "metadata": {},
   "outputs": [
    {
     "data": {
      "text/plain": [
       "array([[<AxesSubplot:title={'center':'income'}>]], dtype=object)"
      ]
     },
     "execution_count": 7,
     "metadata": {},
     "output_type": "execute_result"
    },
    {
     "data": {
      "image/png": "[encoded data removed]",
      "text/plain": [
       "<Figure size 640x480 with 1 Axes>"
      ]
     },
     "metadata": {},
     "output_type": "display_data"
    }
   ],
   "source": [
    "df.hist(column='income', bins=50)"
   ]
  },
  {
   "cell_type": "code",
   "execution_count": 8,
   "metadata": {},
   "outputs": [
    {
     "data": {
      "text/plain": [
       "Index(['region', 'tenure', 'age', 'marital', 'address', 'income', 'ed',\n",
       "       'employ', 'retire', 'gender', 'reside', 'custcat'],\n",
       "      dtype='object')"
      ]
     },
     "execution_count": 8,
     "metadata": {},
     "output_type": "execute_result"
    }
   ],
   "source": [
    "df.columns"
   ]
  },
  {
   "cell_type": "code",
   "execution_count": 9,
   "metadata": {},
   "outputs": [
    {
     "data": {
      "text/plain": [
       "array([[-0.02696767, -1.055125  ,  0.18450456,  1.0100505 , -0.25303431,\n",
       "        -0.12650641,  1.0877526 , -0.5941226 , -0.22207644, -1.03459817,\n",
       "        -0.23065004, -1.32797979],\n",
       "       [ 1.19883553, -1.14880563, -0.69181243,  1.0100505 , -0.4514148 ,\n",
       "         0.54644972,  1.9062271 , -0.5941226 , -0.22207644, -1.03459817,\n",
       "         2.55666158,  1.35119935],\n",
       "       [ 1.19883553,  1.52109247,  0.82182601,  1.0100505 ,  1.23481934,\n",
       "         0.35951747, -1.36767088,  1.78752803, -0.22207644,  0.96655883,\n",
       "        -0.23065004,  0.45813963],\n",
       "       [-0.02696767, -0.11831864, -0.69181243, -0.9900495 ,  0.04453642,\n",
       "        -0.41625141, -0.54919639, -1.09029981, -0.22207644,  0.96655883,\n",
       "        -0.92747794, -1.32797979],\n",
       "       [-0.02696767, -0.58672182, -0.93080797,  1.0100505 , -0.25303431,\n",
       "        -0.44429125, -1.36767088, -0.89182893, -0.22207644, -1.03459817,\n",
       "         1.16300577,  0.45813963]])"
      ]
     },
     "execution_count": 9,
     "metadata": {},
     "output_type": "execute_result"
    }
   ],
   "source": [
    "X = df[['region', 'tenure', 'age', 'marital', 'address', 'income', 'ed',\n",
    "       'employ', 'retire', 'gender', 'reside', 'custcat']].values  #.astype(float)\n",
    "X[0:5]\n",
    "\n",
    "y = df['custcat'].values\n",
    "y[0:5]\n",
    "\n",
    "X = preprocessing.StandardScaler().fit(X).transform(X.astype(float))\n",
    "X[0:5]"
   ]
  },
  {
   "cell_type": "code",
   "execution_count": 10,
   "metadata": {},
   "outputs": [
    {
     "name": "stdout",
     "output_type": "stream",
     "text": [
      "Train set: (800, 12) (800,)\n",
      "Test set: (200, 12) (200,)\n"
     ]
    }
   ],
   "source": [
    "from sklearn.model_selection import train_test_split\n",
    "X_train, X_test, y_train, y_test = train_test_split( X, y, test_size=0.2, random_state=4)\n",
    "print ('Train set:', X_train.shape,  y_train.shape)\n",
    "print ('Test set:', X_test.shape,  y_test.shape)"
   ]
  },
  {
   "cell_type": "code",
   "execution_count": 11,
   "metadata": {},
   "outputs": [
    {
     "data": {
      "text/plain": [
       "array([3, 1, 1, 2, 4], dtype=int64)"
      ]
     },
     "execution_count": 11,
     "metadata": {},
     "output_type": "execute_result"
    }
   ],
   "source": [
    "from sklearn.neighbors import KNeighborsClassifier\n",
    "k = 4\n",
    "neigh = KNeighborsClassifier(n_neighbors = k).fit(X_train,y_train)\n",
    "neigh\n",
    "\n",
    "yhat = neigh.predict(X_test)\n",
    "yhat[0:5]\n"
   ]
  },
  {
   "cell_type": "code",
   "execution_count": 12,
   "metadata": {},
   "outputs": [
    {
     "name": "stdout",
     "output_type": "stream",
     "text": [
      "Train set Accuracy:  0.82875\n",
      "Test set Accuracy:  0.735\n"
     ]
    }
   ],
   "source": [
    "from sklearn import metrics\n",
    "print(\"Train set Accuracy: \", metrics.accuracy_score(y_train, neigh.predict(X_train)))\n",
    "print(\"Test set Accuracy: \", metrics.accuracy_score(y_test, yhat))"
   ]
  },
  {
   "cell_type": "code",
   "execution_count": 31,
   "metadata": {},
   "outputs": [
    {
     "name": "stdout",
     "output_type": "stream",
     "text": [
      "4 3\n",
      "1 1\n",
      "1 2\n",
      "2 2\n",
      "4 4\n",
      "4 4\n",
      "3 3\n",
      "1 1\n",
      "3 3\n",
      "4 4\n",
      "4 3\n",
      "2 2\n",
      "4 3\n",
      "1 1\n",
      "4 3\n",
      "3 3\n",
      "4 4\n",
      "2 2\n",
      "3 3\n",
      "4 4\n",
      "1 3\n",
      "1 1\n",
      "1 1\n",
      "3 4\n",
      "4 4\n",
      "4 4\n",
      "4 4\n",
      "2 2\n",
      "4 4\n",
      "3 4\n",
      "1 1\n",
      "1 1\n",
      "4 4\n",
      "3 2\n",
      "4 3\n",
      "4 4\n",
      "3 3\n",
      "3 3\n",
      "4 4\n",
      "4 4\n",
      "2 3\n",
      "4 4\n",
      "1 1\n",
      "1 1\n",
      "2 2\n",
      "4 4\n",
      "3 3\n",
      "3 3\n",
      "2 2\n",
      "2 2\n",
      "2 1\n",
      "3 3\n",
      "2 2\n",
      "3 3\n",
      "3 3\n",
      "4 4\n",
      "4 4\n",
      "3 3\n",
      "1 1\n",
      "4 4\n",
      "1 1\n",
      "2 2\n",
      "3 3\n",
      "3 3\n",
      "3 3\n",
      "1 1\n",
      "4 4\n",
      "3 3\n",
      "2 2\n",
      "4 4\n",
      "3 3\n",
      "1 1\n",
      "4 4\n",
      "3 3\n",
      "1 1\n",
      "4 4\n",
      "2 1\n",
      "4 3\n",
      "3 4\n",
      "2 2\n",
      "1 1\n",
      "3 3\n",
      "1 1\n",
      "1 1\n",
      "1 1\n",
      "2 3\n",
      "3 3\n",
      "2 2\n",
      "1 1\n",
      "3 2\n",
      "4 4\n",
      "1 1\n",
      "3 3\n",
      "1 1\n",
      "3 4\n",
      "1 1\n",
      "4 4\n",
      "1 1\n",
      "1 1\n",
      "3 2\n",
      "4 3\n",
      "1 1\n",
      "4 3\n",
      "3 3\n",
      "4 4\n",
      "4 4\n",
      "2 2\n",
      "1 2\n",
      "3 3\n",
      "4 4\n",
      "4 4\n",
      "1 1\n",
      "2 2\n",
      "2 2\n",
      "1 1\n",
      "2 2\n",
      "3 3\n",
      "1 1\n",
      "3 4\n",
      "1 1\n",
      "1 1\n",
      "1 1\n",
      "2 2\n",
      "3 3\n",
      "3 3\n",
      "4 4\n",
      "2 2\n",
      "4 3\n",
      "2 3\n",
      "1 1\n",
      "2 2\n",
      "1 1\n",
      "3 3\n",
      "1 1\n",
      "3 3\n",
      "3 3\n",
      "2 2\n",
      "2 1\n",
      "1 1\n",
      "3 3\n",
      "2 2\n",
      "2 2\n",
      "2 2\n",
      "3 3\n",
      "1 1\n",
      "4 4\n",
      "3 2\n",
      "2 1\n",
      "2 2\n",
      "3 4\n",
      "4 4\n",
      "4 4\n",
      "4 4\n",
      "2 2\n",
      "2 3\n",
      "3 3\n",
      "1 1\n",
      "2 2\n",
      "4 4\n",
      "3 3\n",
      "3 3\n",
      "1 1\n",
      "1 1\n",
      "3 3\n",
      "1 1\n",
      "4 4\n",
      "4 4\n",
      "1 1\n",
      "3 3\n",
      "2 1\n",
      "1 1\n",
      "2 2\n",
      "4 3\n",
      "2 2\n",
      "4 4\n",
      "2 2\n",
      "2 2\n",
      "3 4\n",
      "4 3\n",
      "1 1\n",
      "1 3\n",
      "2 3\n",
      "3 3\n",
      "1 1\n",
      "4 3\n",
      "1 2\n",
      "4 3\n",
      "1 1\n",
      "3 3\n",
      "4 4\n",
      "2 3\n",
      "3 3\n",
      "1 1\n",
      "2 2\n",
      "3 3\n",
      "2 2\n",
      "3 3\n",
      "3 3\n",
      "2 2\n",
      "3 3\n",
      "Train set Accuracy:  0.77875\n",
      "Test set Accuracy:  0.8\n"
     ]
    }
   ],
   "source": [
    "k = 25\n",
    "neigh = KNeighborsClassifier(n_neighbors = k).fit(X_train,y_train)\n",
    "neigh\n",
    "\n",
    "yhat = neigh.predict(X_test)\n",
    "yhat[0:5]\n",
    "\n",
    "for i in range(0,len(X_test)):\n",
    "    print(y_test[i], yhat[i])\n",
    "\n",
    "\n",
    "print(\"Train set Accuracy: \", metrics.accuracy_score(y_train, neigh.predict(X_train)))\n",
    "print(\"Test set Accuracy: \", metrics.accuracy_score(y_test, yhat))"
   ]
  },
  {
   "cell_type": "markdown",
   "metadata": {},
   "source": [
    "Range testing of K values\n"
   ]
  },
  {
   "cell_type": "code",
   "execution_count": 26,
   "metadata": {},
   "outputs": [
    {
     "data": {
      "text/plain": [
       "array([0.76 , 0.68 , 0.725, 0.735, 0.73 , 0.755, 0.775, 0.77 , 0.765,\n",
       "       0.79 , 0.795, 0.79 , 0.8  , 0.775, 0.775, 0.775, 0.77 , 0.775,\n",
       "       0.78 , 0.79 , 0.8  , 0.79 , 0.805, 0.785, 0.8  , 0.815, 0.795,\n",
       "       0.795, 0.795])"
      ]
     },
     "execution_count": 26,
     "metadata": {},
     "output_type": "execute_result"
    }
   ],
   "source": [
    "Ks = 30\n",
    "mean_acc = np.zeros((Ks-1))\n",
    "std_acc = np.zeros((Ks-1))\n",
    "\n",
    "for n in range(1,Ks):\n",
    "    \n",
    "    #Train Model and Predict  \n",
    "    neigh = KNeighborsClassifier(n_neighbors = n).fit(X_train,y_train)\n",
    "    yhat=neigh.predict(X_test)\n",
    "    mean_acc[n-1] = metrics.accuracy_score(y_test, yhat)\n",
    "\n",
    "    \n",
    "    std_acc[n-1]=np.std(yhat==y_test)/np.sqrt(yhat.shape[0])\n",
    "\n",
    "mean_acc"
   ]
  },
  {
   "cell_type": "code",
   "execution_count": 27,
   "metadata": {},
   "outputs": [
    {
     "data": {
      "image/png": "[encoded data removed]",
      "text/plain": [
       "<Figure size 640x480 with 1 Axes>"
      ]
     },
     "metadata": {},
     "output_type": "display_data"
    }
   ],
   "source": [
    "plt.plot(range(1,Ks),mean_acc,'g')\n",
    "plt.fill_between(range(1,Ks),mean_acc - 1 * std_acc,mean_acc + 1 * std_acc, alpha=0.10)\n",
    "plt.fill_between(range(1,Ks),mean_acc - 3 * std_acc,mean_acc + 3 * std_acc, alpha=0.10,color=\"green\")\n",
    "plt.legend(('Accuracy ', '+/- 1xstd','+/- 3xstd'))\n",
    "plt.ylabel('Accuracy ')\n",
    "plt.xlabel('Number of Neighbors (K)')\n",
    "plt.tight_layout()\n",
    "plt.show()"
   ]
  },
  {
   "cell_type": "code",
   "execution_count": 28,
   "metadata": {},
   "outputs": [
    {
     "name": "stdout",
     "output_type": "stream",
     "text": [
      "The best accuracy was with 0.815 with k= 26\n"
     ]
    }
   ],
   "source": [
    "print( \"The best accuracy was with\", mean_acc.max(), \"with k=\", mean_acc.argmax()+1) "
   ]
  }
 ],
 "metadata": {
  "kernelspec": {
   "display_name": "Python 3",
   "language": "python",
   "name": "python3"
  },
  "language_info": {
   "codemirror_mode": {
    "name": "ipython",
    "version": 3
   },
   "file_extension": ".py",
   "mimetype": "text/x-python",
   "name": "python",
   "nbconvert_exporter": "python",
   "pygments_lexer": "ipython3",
   "version": "3.9.13"
  }
 },
 "nbformat": 4,
 "nbformat_minor": 2
}
